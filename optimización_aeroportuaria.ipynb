{
  "nbformat": 4,
  "nbformat_minor": 0,
  "metadata": {
    "colab": {
      "provenance": [],
      "authorship_tag": "ABX9TyPOoErl/zRUNQ7Xfl1bud/7",
      "include_colab_link": true
    },
    "kernelspec": {
      "name": "python3",
      "display_name": "Python 3"
    },
    "language_info": {
      "name": "python"
    }
  },
  "cells": [
    {
      "cell_type": "markdown",
      "metadata": {
        "id": "view-in-github",
        "colab_type": "text"
      },
      "source": [
        "<a href=\"https://colab.research.google.com/github/ahcamachod/ia-aumentada-prevision-de-atrasos-de-vuelos/blob/main/optimizaci%C3%B3n_aeroportuaria.ipynb\" target=\"_parent\"><img src=\"https://colab.research.google.com/assets/colab-badge.svg\" alt=\"Open In Colab\"/></a>"
      ]
    },
    {
      "cell_type": "markdown",
      "source": [
        "#**CLASE 1**"
      ],
      "metadata": {
        "id": "YZv225NmmAvJ"
      }
    },
    {
      "cell_type": "code",
      "source": [],
      "metadata": {
        "id": "s4OG44tDNiNo"
      },
      "execution_count": null,
      "outputs": []
    },
    {
      "cell_type": "markdown",
      "source": [
        "https://en.wikipedia.org/wiki/Freedman%E2%80%93Diaconis_rule"
      ],
      "metadata": {
        "id": "qf8wILq2ignY"
      }
    },
    {
      "cell_type": "markdown",
      "source": [
        "#**CLASE 2**"
      ],
      "metadata": {
        "id": "6GyWSWtTmG8i"
      }
    },
    {
      "cell_type": "code",
      "source": [],
      "metadata": {
        "id": "YFddrsxyNO_I"
      },
      "execution_count": null,
      "outputs": []
    },
    {
      "cell_type": "markdown",
      "source": [
        "#**CLASE 3**"
      ],
      "metadata": {
        "id": "3XZMiZHg1G5-"
      }
    },
    {
      "cell_type": "markdown",
      "source": [
        "https://scikit-learn.org/stable/"
      ],
      "metadata": {
        "id": "0lM0v-AH1uMz"
      }
    },
    {
      "cell_type": "code",
      "source": [],
      "metadata": {
        "id": "C9VAU-AVNEOJ"
      },
      "execution_count": null,
      "outputs": []
    },
    {
      "cell_type": "markdown",
      "source": [
        "#**CLASE 4**"
      ],
      "metadata": {
        "id": "HKSjEDIpJWyC"
      }
    },
    {
      "cell_type": "code",
      "source": [],
      "metadata": {
        "id": "HXQ9iZ2RMwZ0"
      },
      "execution_count": null,
      "outputs": []
    }
  ]
}